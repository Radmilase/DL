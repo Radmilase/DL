{
  "cells": [
    {
      "cell_type": "code",
      "execution_count": 63,
      "metadata": {
        "id": "IAc4JPqckx5v"
      },
      "outputs": [],
      "source": [
        "import torch\n",
        "import torch.nn as nn\n",
        "import torch.optim as optim\n",
        "import torchvision.transforms as transforms\n",
        "import torchvision.datasets as datasets\n",
        "from torchvision import datasets\n",
        "from torch.utils.data import DataLoader\n",
        "from torchvision import models\n",
        "import random\n",
        "import numpy as np\n",
        "import matplotlib.pyplot as plt\n",
        "import seaborn as sns\n",
        "from sklearn.metrics import confusion_matrix, classification_report\n"
      ]
    },
    {
      "cell_type": "code",
      "execution_count": 64,
      "metadata": {
        "colab": {
          "base_uri": "https://localhost:8080/"
        },
        "id": "IzDx-2pvMcS9",
        "outputId": "c9bad6cb-ea53-491a-c0d7-4233cb1f8a83"
      },
      "outputs": [
        {
          "data": {
            "text/plain": [
              "device(type='cuda')"
            ]
          },
          "execution_count": 64,
          "metadata": {},
          "output_type": "execute_result"
        }
      ],
      "source": [
        "device = torch.device('cuda' if torch.cuda.is_available() else 'cpu')\n",
        "device"
      ]
    },
    {
      "cell_type": "markdown",
      "metadata": {
        "id": "g3nU4Yap1fQX"
      },
      "source": [
        "## 1. Загрузка данных"
      ]
    },
    {
      "cell_type": "code",
      "execution_count": 65,
      "metadata": {
        "colab": {
          "base_uri": "https://localhost:8080/"
        },
        "id": "ggdqQGPuMhGJ",
        "outputId": "551e06a4-780b-4f2a-9d12-615cacd96108"
      },
      "outputs": [
        {
          "name": "stdout",
          "output_type": "stream",
          "text": [
            "Drive already mounted at /content/drive; to attempt to forcibly remount, call drive.mount(\"/content/drive\", force_remount=True).\n"
          ]
        },
        {
          "data": {
            "text/plain": [
              "['Vegetable Images']"
            ]
          },
          "execution_count": 65,
          "metadata": {},
          "output_type": "execute_result"
        }
      ],
      "source": [
        "# загрузка данных из гугл диска\n",
        "from google.colab import drive\n",
        "drive.mount('/content/drive')\n",
        "\n",
        "import zipfile\n",
        "import os\n",
        "\n",
        "zip_path = \"/content/drive/My Drive/veg.zip\"\n",
        "\n",
        "with zipfile.ZipFile(zip_path, \"r\") as zip_ref:\n",
        "    zip_ref.extractall(\"/content/data\")\n",
        "\n",
        "os.listdir(\"/content/data\") # показать содержимое\n"
      ]
    },
    {
      "cell_type": "code",
      "execution_count": 66,
      "metadata": {
        "colab": {
          "base_uri": "https://localhost:8080/"
        },
        "id": "QI2Y06eqMwUO",
        "outputId": "55bd5680-8c49-40f6-b099-30c7b9737189"
      },
      "outputs": [
        {
          "name": "stdout",
          "output_type": "stream",
          "text": [
            "['validation', 'test', 'train']\n",
            "['Carrot', 'Cauliflower', 'Bottle_Gourd', 'Cabbage', 'Broccoli', 'Radish', 'Brinjal', 'Potato', 'Tomato', 'Cucumber', 'Papaya', 'Bean', 'Capsicum', 'Bitter_Gourd', 'Pumpkin']\n",
            "['Carrot', 'Cauliflower', 'Bottle_Gourd', 'Cabbage', 'Broccoli', 'Radish', 'Brinjal', 'Potato', 'Tomato', 'Cucumber', 'Papaya', 'Bean', 'Capsicum', 'Bitter_Gourd', 'Pumpkin']\n",
            "['Carrot', 'Cauliflower', 'Bottle_Gourd', 'Cabbage', 'Broccoli', 'Radish', 'Brinjal', 'Potato', 'Tomato', 'Cucumber', 'Papaya', 'Bean', 'Capsicum', 'Bitter_Gourd', 'Pumpkin']\n"
          ]
        }
      ],
      "source": [
        "# дата сет\n",
        "import os\n",
        "\n",
        "data_path = \"/content/data/Vegetable Images\"\n",
        "train_data_dir = \"/content/data/Vegetable Images/train\"\n",
        "test_data_dir = \"/content/data/Vegetable Images/test\"\n",
        "val_data_dir = \"/content/data/Vegetable Images/validation\"\n",
        "\n",
        "\n",
        "# посмотрим содержимое директорий\n",
        "print(os.listdir(data_path))\n",
        "print(os.listdir(train_data_dir))\n",
        "print(os.listdir(test_data_dir))\n",
        "print(os.listdir(val_data_dir))"
      ]
    },
    {
      "cell_type": "code",
      "execution_count": 67,
      "metadata": {
        "collapsed": true,
        "id": "RUCs-osAM6q1"
      },
      "outputs": [],
      "source": [
        "# #  скачаем торч\n",
        "# !pip install torchvision\n"
      ]
    },
    {
      "cell_type": "code",
      "execution_count": 68,
      "metadata": {
        "colab": {
          "base_uri": "https://localhost:8080/"
        },
        "id": "pWSUlKJsXtnm",
        "outputId": "266ffa15-3070-4c12-d20b-02153d76ccdd"
      },
      "outputs": [
        {
          "name": "stdout",
          "output_type": "stream",
          "text": [
            "Train sample count : {'Carrot': 1000, 'Cauliflower': 1000, 'Bottle_Gourd': 1000, 'Cabbage': 1000, 'Broccoli': 1000, 'Radish': 1000, 'Brinjal': 1000, 'Potato': 1000, 'Tomato': 1000, 'Cucumber': 1000, 'Papaya': 1000, 'Bean': 1000, 'Capsicum': 1000, 'Bitter_Gourd': 1000, 'Pumpkin': 1000}\n",
            "\n",
            "Test sample count : {'Carrot': 200, 'Cauliflower': 200, 'Bottle_Gourd': 200, 'Cabbage': 200, 'Broccoli': 200, 'Radish': 200, 'Brinjal': 200, 'Potato': 200, 'Tomato': 200, 'Cucumber': 200, 'Papaya': 200, 'Bean': 200, 'Capsicum': 200, 'Bitter_Gourd': 200, 'Pumpkin': 200}\n",
            "\n",
            "Validation sample count : {'Carrot': 200, 'Cauliflower': 200, 'Bottle_Gourd': 200, 'Cabbage': 200, 'Broccoli': 200, 'Radish': 200, 'Brinjal': 200, 'Potato': 200, 'Tomato': 200, 'Cucumber': 200, 'Papaya': 200, 'Bean': 200, 'Capsicum': 200, 'Bitter_Gourd': 200, 'Pumpkin': 200}\n"
          ]
        }
      ],
      "source": [
        "#  количество объектов в классах\n",
        "\n",
        "def count_images(directory):\n",
        "\n",
        "    categories = os.listdir(directory)\n",
        "\n",
        "    category_count = {category: len(os.listdir(os.path.join(directory, category))) for category in categories}\n",
        "    return category_count\n",
        "\n",
        "\n",
        "\n",
        "\n",
        "train_count = count_images(train_data_dir)\n",
        "test_count = count_images(test_data_dir)\n",
        "validation_count = count_images(val_data_dir)\n",
        "\n",
        "\n",
        "\n",
        "print(f\"Train sample count : {train_count}\\n\")\n",
        "print(f\"Test sample count : {test_count}\\n\")\n",
        "print(f\"Validation sample count : {validation_count}\")"
      ]
    },
    {
      "cell_type": "markdown",
      "metadata": {
        "id": "_d5JpD4kxUlL"
      },
      "source": [
        "Преобразуем данные к 224х224 пикселя с помощью `transforms.Compose`. Для загрузки данных в предобученную модель (Resnet18), используем `ImageDataLoader`.\n",
        "Этот класс загружает данные из датасета батчами, используется для итерации по данным во время обучения (каждая итерация соответствует загрузке одного батча данных)."
      ]
    },
    {
      "cell_type": "code",
      "execution_count": 69,
      "metadata": {
        "id": "wXtnHNu9M3jo"
      },
      "outputs": [],
      "source": [
        "# загрузим библиотеки из торч\n",
        "import torchvision.datasets as datasets\n",
        "from torchvision import datasets\n",
        "from torchvision.datasets import ImageFolder\n",
        "\n",
        "# Преобразуем данные к 224х224\n",
        "train_transforms = transforms.Compose([\n",
        "    transforms.Resize((224,224)),\n",
        "    transforms.ToTensor(),\n",
        "])\n",
        "\n",
        "val_transforms = transforms.Compose([\n",
        "    transforms.Resize((224,224)),\n",
        "    transforms.ToTensor(),\n",
        "])\n",
        "\n",
        "test_transforms = transforms.Compose([\n",
        "    transforms.Resize((224,224)),\n",
        "    transforms.ToTensor(),\n",
        "])\n",
        "\n",
        "\n",
        "# Создадим датасеты\n",
        "train_dataset = ImageFolder(train_data_dir, transform=train_transforms)\n",
        "val_dataset = ImageFolder(val_data_dir, transform=val_transforms)\n",
        "test_dataset = ImageFolder(test_data_dir, transform=test_transforms)\n",
        "\n",
        "# Загрузка данных из датасета батчами\n",
        "batch_size = 64\n",
        "train_loader = DataLoader(train_dataset, batch_size=batch_size, shuffle=True)\n",
        "val_loader = DataLoader(val_dataset, batch_size=batch_size, shuffle=False)\n",
        "test_loader = DataLoader(test_dataset, batch_size=batch_size, shuffle=False)"
      ]
    },
    {
      "cell_type": "markdown",
      "metadata": {
        "id": "SAEYpQVF2_sJ"
      },
      "source": [
        "Отобразим случайную выборку из тренировочных данных."
      ]
    },
    {
      "cell_type": "code",
      "execution_count": 70,
      "metadata": {
        "id": "sz0tWBopPDFY"
      },
      "outputs": [],
      "source": [
        "import matplotlib.pyplot as plt\n",
        "import numpy as np\n",
        "import random\n",
        "\n",
        "def show_random_images(images, num_images=36):\n",
        "    # Выбор случайных индексов для отображения изображений\n",
        "    indices = random.sample(range(len(images)), min(num_images, len(images)))\n",
        "\n",
        "    images = images.numpy().transpose((0, 2, 3, 1))\n",
        "\n",
        "    fig, axes = plt.subplots(6, 6, figsize=(10, 10))\n",
        "\n",
        "    for i in range(num_images):\n",
        "        ax = axes[i // 6][i % 6] if num_images > i else None\n",
        "\n",
        "        if ax is not None:\n",
        "            ax.imshow(images[indices[i]])\n",
        "            ax.axis('off')\n",
        "\n",
        "        else:\n",
        "            break\n",
        "\n",
        "    plt.show()\n",
        "\n",
        "# Получение первого батча из тренировочного загрузчика данных\n",
        "images_batch = next(iter(train_loader))[0]\n",
        "\n",
        "# Отображение случайных изображений из батча без нормализации цветов\n",
        "show_random_images(images_batch)\n",
        "\n",
        "\n"
      ]
    },
    {
      "cell_type": "code",
      "execution_count": 71,
      "metadata": {
        "id": "-eA27RojNTeI"
      },
      "outputs": [],
      "source": [
        "#  набор классов в выборке\n",
        "train_classes_list = train_dataset.classes\n",
        "val_classes_list = val_dataset.classes\n",
        "test_classes_list = test_dataset.classes\n",
        "print(f\"список классов в тренировочной выборке: {train_classes_list}\")\n",
        "print(f\"список классов в валидационной выборке: {val_classes_list}\")\n",
        "print(f\"список классов в тестовой выборке: {test_classes_list}\")\n"
      ]
    },
    {
      "cell_type": "markdown",
      "metadata": {
        "id": "RR4Lg98Cz7CT"
      },
      "source": [
        "Проверим количество батче в выборках."
      ]
    },
    {
      "cell_type": "code",
      "execution_count": 72,
      "metadata": {
        "id": "dNEXw0AkOWnK"
      },
      "outputs": [],
      "source": [
        "len(train_loader), len(val_loader), len(test_loader) # количество батчей в даталодер\n",
        "print(\"train\", len(train_loader))\n",
        "print(\"test\", len(test_loader))\n",
        "print(\"val\", len(val_loader))\n"
      ]
    },
    {
      "cell_type": "markdown",
      "metadata": {
        "id": "w1Moht3m3Vku"
      },
      "source": [
        "# 2. Обучение нейросети на предобученой архитектуре.\n"
      ]
    },
    {
      "cell_type": "markdown",
      "metadata": {
        "id": "pKR3zIIC2A7h"
      },
      "source": [
        "## 2.1 Архетектура ResNet18\n",
        "Загрузим предобученную модель ResNet18 и заменим в ней последний слой так, чтобы на выходе было 15 классов. Gростая архитектура, подходит для задач классификации изображений."
      ]
    },
    {
      "cell_type": "code",
      "execution_count": null,
      "metadata": {
        "id": "iRGqIJ00Oa8Z"
      },
      "outputs": [],
      "source": [
        "# загрузим предобученую архитектуру модели ResNet18\n",
        "model = models.resnet18(pretrained=True)\n",
        "\n",
        "# Заменим последний слой так, чтобы количество выходных каналов соответствовало 15 классам\n",
        "num_classes = 15\n",
        "model.fc = nn.Linear(model.fc.in_features, num_classes)\n"
      ]
    },
    {
      "cell_type": "markdown",
      "metadata": {
        "id": "Wxh4gKZ5Oau6"
      },
      "source": [
        "## 2.2 Обучение сети.\n",
        "Обучение нейронной сети на тренировочной выборке и на валидационной (проверочной) выборке.\n",
        "количество эпох выбрано 3.\n",
        "оптимизатор Adam.\n"
      ]
    },
    {
      "cell_type": "code",
      "execution_count": null,
      "metadata": {
        "id": "N5tFNFQBP3Ol"
      },
      "outputs": [],
      "source": [
        "# обучение сети\n",
        "from tqdm import tqdm\n",
        "\n",
        "# Определим функцию потерь и оптимизатор\n",
        "criterion = nn.CrossEntropyLoss() # функция потерь\n",
        "optimizer = optim.Adam(model.parameters(), lr=0.0005)\n",
        "\n",
        "# число эпох\n",
        "num_epochs = 3\n",
        "\n",
        "train_data_loss = []\n",
        "train_data_accuracy = []\n",
        "val_data_loss = []\n",
        "val_data_accuracy= []\n",
        "\n",
        "model.to(device)\n",
        "\n",
        "for epoch in range(num_epochs):\n",
        "    model.train()\n",
        "    running_loss = 0.0\n",
        "    correct = 0\n",
        "    total = 0\n",
        "    for images, labels in tqdm(train_loader):\n",
        "        images, labels = images.to(device), labels.to(device)\n",
        "        optimizer.zero_grad()\n",
        "        outputs = model(images)\n",
        "        loss = criterion(outputs, labels)\n",
        "        loss.backward()\n",
        "        optimizer.step()\n",
        "\n",
        "        running_loss += loss.item()\n",
        "        _, predicted = outputs.max(1)\n",
        "        total += labels.size(0)\n",
        "        correct += predicted.eq(labels).sum().item()\n",
        "\n",
        "    train_loss = running_loss / len(train_loader)\n",
        "    train_accuracy = correct / total\n",
        "    train_data_loss.append(train_loss)\n",
        "    train_data_accuracy.append(train_accuracy)\n",
        "\n",
        "    # Валидация модели\n",
        "    model.eval()\n",
        "    val_loss = 0.0\n",
        "    correct = 0\n",
        "    total = 0\n",
        "    with torch.no_grad():\n",
        "        for images, labels in tqdm(val_loader):\n",
        "            images, labels = images.to(device), labels.to(device)\n",
        "            outputs = model(images)\n",
        "            loss = criterion(outputs, labels)\n",
        "\n",
        "            val_loss += loss.item()\n",
        "            _, predicted = outputs.max(1)\n",
        "            total += labels.size(0)\n",
        "            correct += predicted.eq(labels).sum().item()\n",
        "\n",
        "    val_loss /= len(val_loader)\n",
        "    val_accuracy = correct / total\n",
        "    val_data_loss.append(val_loss)\n",
        "    val_data_accuracy.append(val_accuracy)\n",
        "\n",
        "    print(f'Epoch [{epoch+1}/{num_epochs}], '\n",
        "          f'Train Loss: {train_loss:.4f}, Train Accuracy: {train_accuracy:.4f}, '\n",
        "          f'Val Loss: {val_loss:.4f}, Val Accuracy: {val_accuracy:.4f}')\n",
        "\n",
        "    # Сохранение последней актуальной модели\n",
        "    torch.save(model.state_dict(), 'last_model.pth')\n",
        "    print()\n",
        "\n",
        "print('Training and validation complete!')"
      ]
    },
    {
      "cell_type": "markdown",
      "metadata": {
        "id": "6GIQS3gaVRyM"
      },
      "source": [
        "## 2.3 Оценка качества модели"
      ]
    },
    {
      "cell_type": "markdown",
      "metadata": {
        "id": "nZHDb0uKVhtB"
      },
      "source": [
        "Прогон через тестовую выборку"
      ]
    },
    {
      "cell_type": "code",
      "execution_count": null,
      "metadata": {
        "id": "agERXU3VLMvy"
      },
      "outputs": [],
      "source": [
        "import torch\n",
        "from tqdm import tqdm\n",
        "\n",
        "# Загрузка модели (если она была сохранена)\n",
        "model.load_state_dict(torch.load('best_model.pth'))  # Загрузите лучшую модель\n",
        "model.to(device)  # Переместите модель на устройство (GPU/CPU)\n",
        "\n",
        "# Переводим модель в режим оценки\n",
        "model.eval()\n",
        "\n",
        "# Переменные для подсчета потерь и точности\n",
        "test_loss = 0.0\n",
        "correct = 0\n",
        "total = 0\n",
        "\n",
        "# Отключаем вычисление градиентов для ускорения и экономии памяти\n",
        "with torch.no_grad():\n",
        "    for images, labels in tqdm(test_loader):\n",
        "        # Перемещаем данные на устройство (GPU/CPU)\n",
        "        images, labels = images.to(device), labels.to(device)\n",
        "\n",
        "        # Прямой проход (forward pass)\n",
        "        outputs = model(images)\n",
        "\n",
        "        # Вычисление потерь\n",
        "        loss = criterion(outputs, labels)\n",
        "        test_loss += loss.item()\n",
        "\n",
        "        # Вычисление точности\n",
        "        _, predicted = outputs.max(1)  # Получаем предсказанные классы\n",
        "        total += labels.size(0)  # Общее количество примеров\n",
        "        correct += predicted.eq(labels).sum().item()  # Количество правильных предсказаний\n",
        "\n",
        "# Средние потери и точность на тестовых данных\n",
        "test_loss /= len(test_loader)  # Средние потери\n",
        "test_accuracy = correct / total  # Точность\n",
        "\n",
        "# Вывод результатов\n",
        "print(f'\\nTest Loss: {test_loss:.4f}, Test Accuracy: {test_accuracy:.4f}')"
      ]
    },
    {
      "cell_type": "code",
      "execution_count": 62,
      "metadata": {
        "colab": {
          "base_uri": "https://localhost:8080/",
          "height": 211
        },
        "id": "_dx8Gz_UUl0E",
        "outputId": "3e05337b-2f07-4743-8314-af9b9873ab0e"
      },
      "outputs": [
        {
          "ename": "AttributeError",
          "evalue": "'Sequential' object has no attribute 'eval'",
          "output_type": "error",
          "traceback": [
            "\u001b[0;31m---------------------------------------------------------------------------\u001b[0m",
            "\u001b[0;31mAttributeError\u001b[0m                            Traceback (most recent call last)",
            "\u001b[0;32m<ipython-input-62-5dcf33a82f2d>\u001b[0m in \u001b[0;36m<cell line: 0>\u001b[0;34m()\u001b[0m\n\u001b[1;32m      8\u001b[0m \u001b[0mall_preds\u001b[0m \u001b[0;34m=\u001b[0m \u001b[0;34m[\u001b[0m\u001b[0;34m]\u001b[0m\u001b[0;34m\u001b[0m\u001b[0;34m\u001b[0m\u001b[0m\n\u001b[1;32m      9\u001b[0m \u001b[0mall_labels\u001b[0m \u001b[0;34m=\u001b[0m \u001b[0;34m[\u001b[0m\u001b[0;34m]\u001b[0m\u001b[0;34m\u001b[0m\u001b[0;34m\u001b[0m\u001b[0m\n\u001b[0;32m---> 10\u001b[0;31m \u001b[0mmodel\u001b[0m\u001b[0;34m.\u001b[0m\u001b[0meval\u001b[0m\u001b[0;34m(\u001b[0m\u001b[0;34m)\u001b[0m\u001b[0;34m\u001b[0m\u001b[0;34m\u001b[0m\u001b[0m\n\u001b[0m\u001b[1;32m     11\u001b[0m \u001b[0;32mwith\u001b[0m \u001b[0mtorch\u001b[0m\u001b[0;34m.\u001b[0m\u001b[0mno_grad\u001b[0m\u001b[0;34m(\u001b[0m\u001b[0;34m)\u001b[0m\u001b[0;34m:\u001b[0m\u001b[0;34m\u001b[0m\u001b[0;34m\u001b[0m\u001b[0m\n\u001b[1;32m     12\u001b[0m     \u001b[0;32mfor\u001b[0m \u001b[0mimages\u001b[0m\u001b[0;34m,\u001b[0m \u001b[0mlabels\u001b[0m \u001b[0;32min\u001b[0m \u001b[0mtqdm\u001b[0m\u001b[0;34m(\u001b[0m\u001b[0mtest_loader\u001b[0m\u001b[0;34m)\u001b[0m\u001b[0;34m:\u001b[0m\u001b[0;34m\u001b[0m\u001b[0;34m\u001b[0m\u001b[0m\n",
            "\u001b[0;31mAttributeError\u001b[0m: 'Sequential' object has no attribute 'eval'"
          ]
        }
      ],
      "source": [
        "#  оценка качества модели на тестовой выборке\n",
        "\n",
        "#  матрица ошибок\n",
        "from sklearn.metrics import confusion_matrix\n",
        "import seaborn as sns\n",
        "\n",
        "# Сбор предсказаний и истинных меток\n",
        "all_preds = []\n",
        "all_labels = []\n",
        "model.eval()\n",
        "with torch.no_grad():\n",
        "    for images, labels in tqdm(test_loader):\n",
        "        images, labels = images.to(device), labels.to(device)\n",
        "        outputs = model(images)\n",
        "        _, preds = torch.max(outputs, 1)\n",
        "        all_preds.extend(preds.cpu().numpy())\n",
        "        all_labels.extend(labels.cpu().numpy())\n",
        "\n",
        "train_accur = correct / total\n",
        "val_accur = correct / total\n",
        "test_accur = correct / total\n",
        "\n"
      ]
    },
    {
      "cell_type": "code",
      "execution_count": null,
      "metadata": {
        "id": "rs_0be7lKuIv"
      },
      "outputs": [],
      "source": [
        "test_accur"
      ]
    },
    {
      "cell_type": "markdown",
      "metadata": {
        "id": "45y9pAMTKp_8"
      },
      "source": []
    },
    {
      "cell_type": "markdown",
      "metadata": {
        "id": "K5nwQ1x1V2UN"
      },
      "source": [
        "Построим графики заивсимости функции потерь и точности от эпох. Они дадут понять, переобучилась ли модель."
      ]
    },
    {
      "cell_type": "code",
      "execution_count": 18,
      "metadata": {
        "colab": {
          "base_uri": "https://localhost:8080/",
          "height": 487
        },
        "id": "5XgEu9iaVKnE",
        "outputId": "718881dd-43a2-442f-96ea-0bd85dc0fc57"
      },
      "outputs": [
        {
          "data": {
            "image/png": "[encoded data removed]",
            "text/plain": [
              "<Figure size 1000x500 with 2 Axes>"
            ]
          },
          "metadata": {},
          "output_type": "display_data"
        }
      ],
      "source": [
        "# Построим графики\n",
        "plt.figure(figsize=(10, 5))\n",
        "plt.subplot(1, 2, 1)\n",
        "plt.plot(range(1, num_epochs+1), train_data_loss, label='Train')\n",
        "plt.plot(range(1, num_epochs+1), val_data_loss, label='Validation')\n",
        "plt.xlabel('Epoch')\n",
        "plt.ylabel('Loss')\n",
        "plt.title('Loss vs. Epoch')\n",
        "plt.legend()\n",
        "\n",
        "plt.subplot(1, 2, 2)\n",
        "plt.plot(range(1, num_epochs+1), train_data_accuracy, label='Train')\n",
        "plt.plot(range(1, num_epochs+1), val_data_accuracy, label='Validation')\n",
        "plt.xlabel('Epoch')\n",
        "plt.ylabel('Accuracy')\n",
        "plt.title('Accuracy vs. Epoch')\n",
        "plt.legend()\n",
        "\n",
        "plt.show()"
      ]
    },
    {
      "cell_type": "markdown",
      "metadata": {
        "id": "LYaT_DrDaNvZ"
      },
      "source": [
        "# 3. Создание новой нейронной сети с  нуля."
      ]
    },
    {
      "cell_type": "markdown",
      "metadata": {
        "id": "u2GSgpfUaPqG"
      },
      "source": [
        "## 3.1 Преобразование данных.\n",
        "Так как данные уже загруженны в гугл колаб, то просто загрзим их. Для новой нейросети с нуля я решила использовать библиотеку `TensorFlow`, модуль `Keras`. С помощью `ImageDataGenetaror` преобразуем  значения пикселей изображений к диапазону от 0 до 1."
      ]
    },
    {
      "cell_type": "code",
      "execution_count": 30,
      "metadata": {
        "colab": {
          "base_uri": "https://localhost:8080/"
        },
        "id": "TBVPbvRpaUAF",
        "outputId": "5d4f90ee-c37a-41f0-e239-4aaa02a98d62"
      },
      "outputs": [
        {
          "name": "stdout",
          "output_type": "stream",
          "text": [
            "Found 15000 images belonging to 15 classes.\n",
            "Found 3000 images belonging to 15 classes.\n",
            "Found 3000 images belonging to 15 classes.\n"
          ]
        }
      ],
      "source": [
        "import tensorflow as tf\n",
        "from tensorflow.keras.preprocessing.image import ImageDataGenerator\n",
        "\n",
        "# Создание генератора данных для тренировочной выборки\n",
        "train_datagen = ImageDataGenerator(\n",
        "    rescale=1./255,\n",
        "    preprocessing_function=lambda x: tf.image.resize(x, (224, 224)))\n",
        "\n",
        "train_generator = train_datagen.flow_from_directory(\n",
        "    train_data_dir,\n",
        "    target_size=(224, 224),\n",
        "    batch_size=32,\n",
        "    class_mode='categorical'\n",
        ")\n",
        "\n",
        "# Создание генератора данных для валидационной выборки\n",
        "val_datagen = ImageDataGenerator(rescale=1./255)\n",
        "\n",
        "validation_generator = val_datagen.flow_from_directory(\n",
        "    val_data_dir,\n",
        "    target_size=(224, 224),\n",
        "    batch_size=32,\n",
        "    class_mode='categorical'\n",
        ")\n",
        "\n"
      ]
    },
    {
      "cell_type": "code",
      "execution_count": 31,
      "metadata": {
        "colab": {
          "base_uri": "https://localhost:8080/"
        },
        "id": "Kn1yMToukcE5",
        "outputId": "e2e19742-b7df-4201-97c6-56fd981f8965"
      },
      "outputs": [
        {
          "data": {
            "text/plain": [
              "{'Bean': 0,\n",
              " 'Bitter_Gourd': 1,\n",
              " 'Bottle_Gourd': 2,\n",
              " 'Brinjal': 3,\n",
              " 'Broccoli': 4,\n",
              " 'Cabbage': 5,\n",
              " 'Capsicum': 6,\n",
              " 'Carrot': 7,\n",
              " 'Cauliflower': 8,\n",
              " 'Cucumber': 9,\n",
              " 'Papaya': 10,\n",
              " 'Potato': 11,\n",
              " 'Pumpkin': 12,\n",
              " 'Radish': 13,\n",
              " 'Tomato': 14}"
            ]
          },
          "execution_count": 31,
          "metadata": {},
          "output_type": "execute_result"
        }
      ],
      "source": [
        "classes = train_generator.class_indices\n",
        "classes"
      ]
    },
    {
      "cell_type": "markdown",
      "metadata": {
        "id": "7fMW7ntVa7hH"
      },
      "source": [
        "## 3.2 Создание модели"
      ]
    },
    {
      "cell_type": "markdown",
      "metadata": {
        "id": "Q4JUg7uu4MLp"
      },
      "source": [
        "Для создания новой нейросети, воспользуемся информацией на официальном сайте TesorFlow [последовательная модель Sequential ](https://www.tensorflow.org/guide/keras/sequential_model?hl=ru). Последовательная модель `Sequential` состоит из стека слоев, где каждый слой имеет ровно один тензор входной и один выходной тензор."
      ]
    },
    {
      "cell_type": "markdown",
      "metadata": {
        "id": "EYLxbPbMCdvc"
      },
      "source": []
    },
    {
      "cell_type": "code",
      "execution_count": 36,
      "metadata": {
        "colab": {
          "base_uri": "https://localhost:8080/",
          "height": 340
        },
        "id": "NlzyIoJka7FQ",
        "outputId": "2deb3457-a70f-492b-d014-42f47f9fec49"
      },
      "outputs": [
        {
          "data": {
            "text/html": [
              "<pre style=\"white-space:pre;overflow-x:auto;line-height:normal;font-family:Menlo,'DejaVu Sans Mono',consolas,'Courier New',monospace\"><span style=\"font-weight: bold\">Model: \"sequential_4\"</span>\n",
              "</pre>\n"
            ],
            "text/plain": [
              "\u001b[1mModel: \"sequential_4\"\u001b[0m\n"
            ]
          },
          "metadata": {},
          "output_type": "display_data"
        },
        {
          "data": {
            "text/html": [
              "<pre style=\"white-space:pre;overflow-x:auto;line-height:normal;font-family:Menlo,'DejaVu Sans Mono',consolas,'Courier New',monospace\">┏━━━━━━━━━━━━━━━━━━━━━━━━━━━━━━━━━━━━━━┳━━━━━━━━━━━━━━━━━━━━━━━━━━━━━┳━━━━━━━━━━━━━━━━━┓\n",
              "┃<span style=\"font-weight: bold\"> Layer (type)                         </span>┃<span style=\"font-weight: bold\"> Output Shape                </span>┃<span style=\"font-weight: bold\">         Param # </span>┃\n",
              "┡━━━━━━━━━━━━━━━━━━━━━━━━━━━━━━━━━━━━━━╇━━━━━━━━━━━━━━━━━━━━━━━━━━━━━╇━━━━━━━━━━━━━━━━━┩\n",
              "│ conv2d_14 (<span style=\"color: #0087ff; text-decoration-color: #0087ff\">Conv2D</span>)                   │ (<span style=\"color: #00d7ff; text-decoration-color: #00d7ff\">None</span>, <span style=\"color: #00af00; text-decoration-color: #00af00\">222</span>, <span style=\"color: #00af00; text-decoration-color: #00af00\">222</span>, <span style=\"color: #00af00; text-decoration-color: #00af00\">32</span>)        │             <span style=\"color: #00af00; text-decoration-color: #00af00\">896</span> │\n",
              "├──────────────────────────────────────┼─────────────────────────────┼─────────────────┤\n",
              "│ max_pooling2d_14 (<span style=\"color: #0087ff; text-decoration-color: #0087ff\">MaxPooling2D</span>)      │ (<span style=\"color: #00d7ff; text-decoration-color: #00d7ff\">None</span>, <span style=\"color: #00af00; text-decoration-color: #00af00\">111</span>, <span style=\"color: #00af00; text-decoration-color: #00af00\">111</span>, <span style=\"color: #00af00; text-decoration-color: #00af00\">32</span>)        │               <span style=\"color: #00af00; text-decoration-color: #00af00\">0</span> │\n",
              "├──────────────────────────────────────┼─────────────────────────────┼─────────────────┤\n",
              "│ conv2d_15 (<span style=\"color: #0087ff; text-decoration-color: #0087ff\">Conv2D</span>)                   │ (<span style=\"color: #00d7ff; text-decoration-color: #00d7ff\">None</span>, <span style=\"color: #00af00; text-decoration-color: #00af00\">109</span>, <span style=\"color: #00af00; text-decoration-color: #00af00\">109</span>, <span style=\"color: #00af00; text-decoration-color: #00af00\">64</span>)        │          <span style=\"color: #00af00; text-decoration-color: #00af00\">18,496</span> │\n",
              "├──────────────────────────────────────┼─────────────────────────────┼─────────────────┤\n",
              "│ max_pooling2d_15 (<span style=\"color: #0087ff; text-decoration-color: #0087ff\">MaxPooling2D</span>)      │ (<span style=\"color: #00d7ff; text-decoration-color: #00d7ff\">None</span>, <span style=\"color: #00af00; text-decoration-color: #00af00\">54</span>, <span style=\"color: #00af00; text-decoration-color: #00af00\">54</span>, <span style=\"color: #00af00; text-decoration-color: #00af00\">64</span>)          │               <span style=\"color: #00af00; text-decoration-color: #00af00\">0</span> │\n",
              "├──────────────────────────────────────┼─────────────────────────────┼─────────────────┤\n",
              "│ flatten_5 (<span style=\"color: #0087ff; text-decoration-color: #0087ff\">Flatten</span>)                  │ (<span style=\"color: #00d7ff; text-decoration-color: #00d7ff\">None</span>, <span style=\"color: #00af00; text-decoration-color: #00af00\">186624</span>)              │               <span style=\"color: #00af00; text-decoration-color: #00af00\">0</span> │\n",
              "├──────────────────────────────────────┼─────────────────────────────┼─────────────────┤\n",
              "│ dense_8 (<span style=\"color: #0087ff; text-decoration-color: #0087ff\">Dense</span>)                      │ (<span style=\"color: #00d7ff; text-decoration-color: #00d7ff\">None</span>, <span style=\"color: #00af00; text-decoration-color: #00af00\">15</span>)                  │       <span style=\"color: #00af00; text-decoration-color: #00af00\">2,799,375</span> │\n",
              "└──────────────────────────────────────┴─────────────────────────────┴─────────────────┘\n",
              "</pre>\n"
            ],
            "text/plain": [
              "┏━━━━━━━━━━━━━━━━━━━━━━━━━━━━━━━━━━━━━━┳━━━━━━━━━━━━━━━━━━━━━━━━━━━━━┳━━━━━━━━━━━━━━━━━┓\n",
              "┃\u001b[1m \u001b[0m\u001b[1mLayer (type)                        \u001b[0m\u001b[1m \u001b[0m┃\u001b[1m \u001b[0m\u001b[1mOutput Shape               \u001b[0m\u001b[1m \u001b[0m┃\u001b[1m \u001b[0m\u001b[1m        Param #\u001b[0m\u001b[1m \u001b[0m┃\n",
              "┡━━━━━━━━━━━━━━━━━━━━━━━━━━━━━━━━━━━━━━╇━━━━━━━━━━━━━━━━━━━━━━━━━━━━━╇━━━━━━━━━━━━━━━━━┩\n",
              "│ conv2d_14 (\u001b[38;5;33mConv2D\u001b[0m)                   │ (\u001b[38;5;45mNone\u001b[0m, \u001b[38;5;34m222\u001b[0m, \u001b[38;5;34m222\u001b[0m, \u001b[38;5;34m32\u001b[0m)        │             \u001b[38;5;34m896\u001b[0m │\n",
              "├──────────────────────────────────────┼─────────────────────────────┼─────────────────┤\n",
              "│ max_pooling2d_14 (\u001b[38;5;33mMaxPooling2D\u001b[0m)      │ (\u001b[38;5;45mNone\u001b[0m, \u001b[38;5;34m111\u001b[0m, \u001b[38;5;34m111\u001b[0m, \u001b[38;5;34m32\u001b[0m)        │               \u001b[38;5;34m0\u001b[0m │\n",
              "├──────────────────────────────────────┼─────────────────────────────┼─────────────────┤\n",
              "│ conv2d_15 (\u001b[38;5;33mConv2D\u001b[0m)                   │ (\u001b[38;5;45mNone\u001b[0m, \u001b[38;5;34m109\u001b[0m, \u001b[38;5;34m109\u001b[0m, \u001b[38;5;34m64\u001b[0m)        │          \u001b[38;5;34m18,496\u001b[0m │\n",
              "├──────────────────────────────────────┼─────────────────────────────┼─────────────────┤\n",
              "│ max_pooling2d_15 (\u001b[38;5;33mMaxPooling2D\u001b[0m)      │ (\u001b[38;5;45mNone\u001b[0m, \u001b[38;5;34m54\u001b[0m, \u001b[38;5;34m54\u001b[0m, \u001b[38;5;34m64\u001b[0m)          │               \u001b[38;5;34m0\u001b[0m │\n",
              "├──────────────────────────────────────┼─────────────────────────────┼─────────────────┤\n",
              "│ flatten_5 (\u001b[38;5;33mFlatten\u001b[0m)                  │ (\u001b[38;5;45mNone\u001b[0m, \u001b[38;5;34m186624\u001b[0m)              │               \u001b[38;5;34m0\u001b[0m │\n",
              "├──────────────────────────────────────┼─────────────────────────────┼─────────────────┤\n",
              "│ dense_8 (\u001b[38;5;33mDense\u001b[0m)                      │ (\u001b[38;5;45mNone\u001b[0m, \u001b[38;5;34m15\u001b[0m)                  │       \u001b[38;5;34m2,799,375\u001b[0m │\n",
              "└──────────────────────────────────────┴─────────────────────────────┴─────────────────┘\n"
            ]
          },
          "metadata": {},
          "output_type": "display_data"
        },
        {
          "data": {
            "text/html": [
              "<pre style=\"white-space:pre;overflow-x:auto;line-height:normal;font-family:Menlo,'DejaVu Sans Mono',consolas,'Courier New',monospace\"><span style=\"font-weight: bold\"> Total params: </span><span style=\"color: #00af00; text-decoration-color: #00af00\">2,818,767</span> (10.75 MB)\n",
              "</pre>\n"
            ],
            "text/plain": [
              "\u001b[1m Total params: \u001b[0m\u001b[38;5;34m2,818,767\u001b[0m (10.75 MB)\n"
            ]
          },
          "metadata": {},
          "output_type": "display_data"
        },
        {
          "data": {
            "text/html": [
              "<pre style=\"white-space:pre;overflow-x:auto;line-height:normal;font-family:Menlo,'DejaVu Sans Mono',consolas,'Courier New',monospace\"><span style=\"font-weight: bold\"> Trainable params: </span><span style=\"color: #00af00; text-decoration-color: #00af00\">2,818,767</span> (10.75 MB)\n",
              "</pre>\n"
            ],
            "text/plain": [
              "\u001b[1m Trainable params: \u001b[0m\u001b[38;5;34m2,818,767\u001b[0m (10.75 MB)\n"
            ]
          },
          "metadata": {},
          "output_type": "display_data"
        },
        {
          "data": {
            "text/html": [
              "<pre style=\"white-space:pre;overflow-x:auto;line-height:normal;font-family:Menlo,'DejaVu Sans Mono',consolas,'Courier New',monospace\"><span style=\"font-weight: bold\"> Non-trainable params: </span><span style=\"color: #00af00; text-decoration-color: #00af00\">0</span> (0.00 B)\n",
              "</pre>\n"
            ],
            "text/plain": [
              "\u001b[1m Non-trainable params: \u001b[0m\u001b[38;5;34m0\u001b[0m (0.00 B)\n"
            ]
          },
          "metadata": {},
          "output_type": "display_data"
        }
      ],
      "source": [
        "from tensorflow.keras import layers, models\n",
        "\n",
        "model = models.Sequential([\n",
        "    # Первый скрытый слой 1\n",
        "    layers.Conv2D(32, (3, 3), activation='relu', input_shape=(224, 224, 3)),  # 32 фильтра\n",
        "    layers.MaxPooling2D((2, 2)),\n",
        "\n",
        "    # Второй скрытый слой 2\n",
        "    layers.Conv2D(64, (3, 3), activation='relu'),  # 64 фильтра\n",
        "    layers.MaxPooling2D((2, 2)),\n",
        "\n",
        "    # Выравнивание данных для полносвязных слоев\n",
        "    layers.Flatten(),\n",
        "\n",
        "    # Выходной слой\n",
        "    layers.Dense(num_classes, activation='softmax')  # Выходной слой\n",
        "])\n",
        "\n",
        "model.compile(optimizer='adam',\n",
        "              loss='categorical_crossentropy',\n",
        "              metrics=['accuracy'])\n",
        "\n",
        "model.summary()"
      ]
    },
    {
      "cell_type": "markdown",
      "metadata": {
        "id": "eKMXW5FAC5m6"
      },
      "source": [
        "## 3.3 Обучение с помощью метода `model.fit()`"
      ]
    },
    {
      "cell_type": "code",
      "execution_count": 37,
      "metadata": {
        "colab": {
          "base_uri": "https://localhost:8080/"
        },
        "id": "xG1ryDQcbOi1",
        "outputId": "bc172bf3-9d15-40a4-e0e6-070a0e5341e1"
      },
      "outputs": [
        {
          "name": "stderr",
          "output_type": "stream",
          "text": [
            "/usr/local/lib/python3.11/dist-packages/keras/src/trainers/data_adapters/py_dataset_adapter.py:121: UserWarning: Your `PyDataset` class should call `super().__init__(**kwargs)` in its constructor. `**kwargs` can include `workers`, `use_multiprocessing`, `max_queue_size`. Do not pass these arguments to `fit()`, as they will be ignored.\n",
            "  self._warn_if_super_not_called()\n"
          ]
        },
        {
          "name": "stdout",
          "output_type": "stream",
          "text": [
            "Epoch 1/5\n",
            "\u001b[1m468/468\u001b[0m \u001b[32m━━━━━━━━━━━━━━━━━━━━\u001b[0m\u001b[37m\u001b[0m \u001b[1m73s\u001b[0m 145ms/step - accuracy: 0.5567 - loss: 1.7006 - val_accuracy: 0.8710 - val_loss: 0.4208\n",
            "Epoch 2/5\n",
            "\u001b[1m  1/468\u001b[0m \u001b[37m━━━━━━━━━━━━━━━━━━━━\u001b[0m \u001b[1m21s\u001b[0m 45ms/step - accuracy: 0.8750 - loss: 0.3495"
          ]
        },
        {
          "name": "stderr",
          "output_type": "stream",
          "text": [
            "/usr/local/lib/python3.11/dist-packages/keras/src/trainers/epoch_iterator.py:107: UserWarning: Your input ran out of data; interrupting training. Make sure that your dataset or generator can generate at least `steps_per_epoch * epochs` batches. You may need to use the `.repeat()` function when building your dataset.\n",
            "  self._interrupted_warning()\n"
          ]
        },
        {
          "name": "stdout",
          "output_type": "stream",
          "text": [
            "\b\b\b\b\b\b\b\b\b\b\b\b\b\b\b\b\b\b\b\b\b\b\b\b\b\b\b\b\b\b\b\b\b\b\b\b\b\b\b\b\b\b\b\b\b\b\b\b\b\b\b\b\b\b\b\b\b\b\b\b\b\b\b\b\b\b\b\b\b\b\b\b\b\b\b\b\r\u001b[1m468/468\u001b[0m \u001b[32m━━━━━━━━━━━━━━━━━━━━\u001b[0m\u001b[37m\u001b[0m \u001b[1m5s\u001b[0m 10ms/step - accuracy: 0.8750 - loss: 0.3495 - val_accuracy: 0.8760 - val_loss: 0.4112\n",
            "Epoch 3/5\n",
            "\u001b[1m468/468\u001b[0m \u001b[32m━━━━━━━━━━━━━━━━━━━━\u001b[0m\u001b[37m\u001b[0m \u001b[1m69s\u001b[0m 148ms/step - accuracy: 0.9221 - loss: 0.2695 - val_accuracy: 0.8868 - val_loss: 0.3812\n",
            "Epoch 4/5\n",
            "\u001b[1m468/468\u001b[0m \u001b[32m━━━━━━━━━━━━━━━━━━━━\u001b[0m\u001b[37m\u001b[0m \u001b[1m4s\u001b[0m 8ms/step - accuracy: 0.8750 - loss: 0.2516 - val_accuracy: 0.8844 - val_loss: 0.3892\n",
            "Epoch 5/5\n",
            "\u001b[1m468/468\u001b[0m \u001b[32m━━━━━━━━━━━━━━━━━━━━\u001b[0m\u001b[37m\u001b[0m \u001b[1m82s\u001b[0m 176ms/step - accuracy: 0.9726 - loss: 0.0987 - val_accuracy: 0.8763 - val_loss: 0.4006\n"
          ]
        }
      ],
      "source": [
        "history = model.fit(\n",
        "    train_generator,\n",
        "    steps_per_epoch=train_generator.samples // train_generator.batch_size,\n",
        "    epochs=5,\n",
        "    validation_data = validation_generator,\n",
        "    validation_steps = validation_generator.samples // validation_generator.batch_size\n",
        ")"
      ]
    },
    {
      "cell_type": "code",
      "execution_count": 39,
      "metadata": {
        "colab": {
          "base_uri": "https://localhost:8080/"
        },
        "id": "-P8e3ZBles3n",
        "outputId": "1d520e54-4703-4986-d827-808143d5d312"
      },
      "outputs": [
        {
          "name": "stdout",
          "output_type": "stream",
          "text": [
            "\u001b[1m94/94\u001b[0m \u001b[32m━━━━━━━━━━━━━━━━━━━━\u001b[0m\u001b[37m\u001b[0m \u001b[1m6s\u001b[0m 58ms/step - accuracy: 0.8755 - loss: 0.3995\n",
            "Validation Accuracy: 0.88\n"
          ]
        }
      ],
      "source": [
        "loss, accuracy = model.evaluate(validation_generator)\n",
        "print(f'Validation Accuracy: {accuracy:.2f}')"
      ]
    },
    {
      "cell_type": "markdown",
      "metadata": {
        "id": "ps9H0YduGKEt"
      },
      "source": [
        "После визуализируем данные с помощью графиков. Будут показаны точность модели на тренировочной и валидационной выборках, а также функция потерь на тех же выборках."
      ]
    },
    {
      "cell_type": "code",
      "execution_count": 49,
      "metadata": {
        "colab": {
          "base_uri": "https://localhost:8080/",
          "height": 607
        },
        "id": "_xNPf7yAFzNP",
        "outputId": "a5eb1ef2-3f28-4d6c-e4d1-508150df5e1f"
      },
      "outputs": [
        {
          "data": {
            "image/png": "[encoded data removed]",
            "text/plain": [
              "<Figure size 1200x600 with 2 Axes>"
            ]
          },
          "metadata": {},
          "output_type": "display_data"
        }
      ],
      "source": [
        "import matplotlib.pyplot as plt\n",
        "\n",
        "# Извлечение данных из history\n",
        "train_loss = history.history['loss']\n",
        "val_loss = history.history['val_loss']\n",
        "\n",
        "train_accuracy = history.history['accuracy']\n",
        "val_accuracy = history.history['val_accuracy']\n",
        "\n",
        "# # Оценка модели на тестовых данных\n",
        "# test_loss, test_accuracy = model.evaluate(test_gen)\n",
        "# print(f'Test Loss: {test_loss:.3f}, Test Accuracy: {test_accuracy:.3f}')\n",
        "\n",
        "# График функции потерь (Loss)\n",
        "plt.figure(figsize=(12, 6))\n",
        "plt.subplot(1, 2, 1)\n",
        "plt.plot(train_loss, label='Train Loss')\n",
        "plt.plot(val_loss, label='Validation Loss')\n",
        "plt.title('Loss / Epochs')\n",
        "plt.xlabel('Epochs')\n",
        "plt.ylabel('Loss')\n",
        "plt.legend()\n",
        "\n",
        "# График точности (Accuracy)\n",
        "plt.subplot(1, 2, 2)\n",
        "plt.plot(train_accuracy, label='Train Accuracy')\n",
        "plt.plot(val_accuracy, label='Validation Accuracy')\n",
        "plt.title('Accuracy / Epochs')\n",
        "plt.xlabel('Epochs')\n",
        "plt.ylabel('Accuracy')\n",
        "plt.legend()\n",
        "\n",
        "plt.tight_layout()\n",
        "plt.show()"
      ]
    },
    {
      "cell_type": "markdown",
      "metadata": {
        "id": "zIJNmItUGTxv"
      },
      "source": [
        "По графикам моэно сделать вывод что модель переобучилась. Есть несколько решений: лоабвить аугментацию, dropout.\n",
        "Я добавлю в скрытый слой dropout.\n"
      ]
    },
    {
      "cell_type": "code",
      "execution_count": 58,
      "metadata": {
        "colab": {
          "base_uri": "https://localhost:8080/",
          "height": 429
        },
        "id": "t3-zByrgGhjX",
        "outputId": "6a24f927-17c1-4bb7-b769-65088833e4cb"
      },
      "outputs": [
        {
          "name": "stderr",
          "output_type": "stream",
          "text": [
            "/usr/local/lib/python3.11/dist-packages/keras/src/layers/convolutional/base_conv.py:107: UserWarning: Do not pass an `input_shape`/`input_dim` argument to a layer. When using Sequential models, prefer using an `Input(shape)` object as the first layer in the model instead.\n",
            "  super().__init__(activity_regularizer=activity_regularizer, **kwargs)\n"
          ]
        },
        {
          "data": {
            "text/html": [
              "<pre style=\"white-space:pre;overflow-x:auto;line-height:normal;font-family:Menlo,'DejaVu Sans Mono',consolas,'Courier New',monospace\"><span style=\"font-weight: bold\">Model: \"sequential_6\"</span>\n",
              "</pre>\n"
            ],
            "text/plain": [
              "\u001b[1mModel: \"sequential_6\"\u001b[0m\n"
            ]
          },
          "metadata": {},
          "output_type": "display_data"
        },
        {
          "data": {
            "text/html": [
              "<pre style=\"white-space:pre;overflow-x:auto;line-height:normal;font-family:Menlo,'DejaVu Sans Mono',consolas,'Courier New',monospace\">┏━━━━━━━━━━━━━━━━━━━━━━━━━━━━━━━━━━━━━━┳━━━━━━━━━━━━━━━━━━━━━━━━━━━━━┳━━━━━━━━━━━━━━━━━┓\n",
              "┃<span style=\"font-weight: bold\"> Layer (type)                         </span>┃<span style=\"font-weight: bold\"> Output Shape                </span>┃<span style=\"font-weight: bold\">         Param # </span>┃\n",
              "┡━━━━━━━━━━━━━━━━━━━━━━━━━━━━━━━━━━━━━━╇━━━━━━━━━━━━━━━━━━━━━━━━━━━━━╇━━━━━━━━━━━━━━━━━┩\n",
              "│ conv2d_18 (<span style=\"color: #0087ff; text-decoration-color: #0087ff\">Conv2D</span>)                   │ (<span style=\"color: #00d7ff; text-decoration-color: #00d7ff\">None</span>, <span style=\"color: #00af00; text-decoration-color: #00af00\">222</span>, <span style=\"color: #00af00; text-decoration-color: #00af00\">222</span>, <span style=\"color: #00af00; text-decoration-color: #00af00\">32</span>)        │             <span style=\"color: #00af00; text-decoration-color: #00af00\">896</span> │\n",
              "├──────────────────────────────────────┼─────────────────────────────┼─────────────────┤\n",
              "│ max_pooling2d_18 (<span style=\"color: #0087ff; text-decoration-color: #0087ff\">MaxPooling2D</span>)      │ (<span style=\"color: #00d7ff; text-decoration-color: #00d7ff\">None</span>, <span style=\"color: #00af00; text-decoration-color: #00af00\">111</span>, <span style=\"color: #00af00; text-decoration-color: #00af00\">111</span>, <span style=\"color: #00af00; text-decoration-color: #00af00\">32</span>)        │               <span style=\"color: #00af00; text-decoration-color: #00af00\">0</span> │\n",
              "├──────────────────────────────────────┼─────────────────────────────┼─────────────────┤\n",
              "│ conv2d_19 (<span style=\"color: #0087ff; text-decoration-color: #0087ff\">Conv2D</span>)                   │ (<span style=\"color: #00d7ff; text-decoration-color: #00d7ff\">None</span>, <span style=\"color: #00af00; text-decoration-color: #00af00\">109</span>, <span style=\"color: #00af00; text-decoration-color: #00af00\">109</span>, <span style=\"color: #00af00; text-decoration-color: #00af00\">64</span>)        │          <span style=\"color: #00af00; text-decoration-color: #00af00\">18,496</span> │\n",
              "├──────────────────────────────────────┼─────────────────────────────┼─────────────────┤\n",
              "│ max_pooling2d_19 (<span style=\"color: #0087ff; text-decoration-color: #0087ff\">MaxPooling2D</span>)      │ (<span style=\"color: #00d7ff; text-decoration-color: #00d7ff\">None</span>, <span style=\"color: #00af00; text-decoration-color: #00af00\">54</span>, <span style=\"color: #00af00; text-decoration-color: #00af00\">54</span>, <span style=\"color: #00af00; text-decoration-color: #00af00\">64</span>)          │               <span style=\"color: #00af00; text-decoration-color: #00af00\">0</span> │\n",
              "├──────────────────────────────────────┼─────────────────────────────┼─────────────────┤\n",
              "│ flatten_7 (<span style=\"color: #0087ff; text-decoration-color: #0087ff\">Flatten</span>)                  │ (<span style=\"color: #00d7ff; text-decoration-color: #00d7ff\">None</span>, <span style=\"color: #00af00; text-decoration-color: #00af00\">186624</span>)              │               <span style=\"color: #00af00; text-decoration-color: #00af00\">0</span> │\n",
              "├──────────────────────────────────────┼─────────────────────────────┼─────────────────┤\n",
              "│ dropout_4 (<span style=\"color: #0087ff; text-decoration-color: #0087ff\">Dropout</span>)                  │ (<span style=\"color: #00d7ff; text-decoration-color: #00d7ff\">None</span>, <span style=\"color: #00af00; text-decoration-color: #00af00\">186624</span>)              │               <span style=\"color: #00af00; text-decoration-color: #00af00\">0</span> │\n",
              "├──────────────────────────────────────┼─────────────────────────────┼─────────────────┤\n",
              "│ dense_10 (<span style=\"color: #0087ff; text-decoration-color: #0087ff\">Dense</span>)                     │ (<span style=\"color: #00d7ff; text-decoration-color: #00d7ff\">None</span>, <span style=\"color: #00af00; text-decoration-color: #00af00\">15</span>)                  │       <span style=\"color: #00af00; text-decoration-color: #00af00\">2,799,375</span> │\n",
              "└──────────────────────────────────────┴─────────────────────────────┴─────────────────┘\n",
              "</pre>\n"
            ],
            "text/plain": [
              "┏━━━━━━━━━━━━━━━━━━━━━━━━━━━━━━━━━━━━━━┳━━━━━━━━━━━━━━━━━━━━━━━━━━━━━┳━━━━━━━━━━━━━━━━━┓\n",
              "┃\u001b[1m \u001b[0m\u001b[1mLayer (type)                        \u001b[0m\u001b[1m \u001b[0m┃\u001b[1m \u001b[0m\u001b[1mOutput Shape               \u001b[0m\u001b[1m \u001b[0m┃\u001b[1m \u001b[0m\u001b[1m        Param #\u001b[0m\u001b[1m \u001b[0m┃\n",
              "┡━━━━━━━━━━━━━━━━━━━━━━━━━━━━━━━━━━━━━━╇━━━━━━━━━━━━━━━━━━━━━━━━━━━━━╇━━━━━━━━━━━━━━━━━┩\n",
              "│ conv2d_18 (\u001b[38;5;33mConv2D\u001b[0m)                   │ (\u001b[38;5;45mNone\u001b[0m, \u001b[38;5;34m222\u001b[0m, \u001b[38;5;34m222\u001b[0m, \u001b[38;5;34m32\u001b[0m)        │             \u001b[38;5;34m896\u001b[0m │\n",
              "├──────────────────────────────────────┼─────────────────────────────┼─────────────────┤\n",
              "│ max_pooling2d_18 (\u001b[38;5;33mMaxPooling2D\u001b[0m)      │ (\u001b[38;5;45mNone\u001b[0m, \u001b[38;5;34m111\u001b[0m, \u001b[38;5;34m111\u001b[0m, \u001b[38;5;34m32\u001b[0m)        │               \u001b[38;5;34m0\u001b[0m │\n",
              "├──────────────────────────────────────┼─────────────────────────────┼─────────────────┤\n",
              "│ conv2d_19 (\u001b[38;5;33mConv2D\u001b[0m)                   │ (\u001b[38;5;45mNone\u001b[0m, \u001b[38;5;34m109\u001b[0m, \u001b[38;5;34m109\u001b[0m, \u001b[38;5;34m64\u001b[0m)        │          \u001b[38;5;34m18,496\u001b[0m │\n",
              "├──────────────────────────────────────┼─────────────────────────────┼─────────────────┤\n",
              "│ max_pooling2d_19 (\u001b[38;5;33mMaxPooling2D\u001b[0m)      │ (\u001b[38;5;45mNone\u001b[0m, \u001b[38;5;34m54\u001b[0m, \u001b[38;5;34m54\u001b[0m, \u001b[38;5;34m64\u001b[0m)          │               \u001b[38;5;34m0\u001b[0m │\n",
              "├──────────────────────────────────────┼─────────────────────────────┼─────────────────┤\n",
              "│ flatten_7 (\u001b[38;5;33mFlatten\u001b[0m)                  │ (\u001b[38;5;45mNone\u001b[0m, \u001b[38;5;34m186624\u001b[0m)              │               \u001b[38;5;34m0\u001b[0m │\n",
              "├──────────────────────────────────────┼─────────────────────────────┼─────────────────┤\n",
              "│ dropout_4 (\u001b[38;5;33mDropout\u001b[0m)                  │ (\u001b[38;5;45mNone\u001b[0m, \u001b[38;5;34m186624\u001b[0m)              │               \u001b[38;5;34m0\u001b[0m │\n",
              "├──────────────────────────────────────┼─────────────────────────────┼─────────────────┤\n",
              "│ dense_10 (\u001b[38;5;33mDense\u001b[0m)                     │ (\u001b[38;5;45mNone\u001b[0m, \u001b[38;5;34m15\u001b[0m)                  │       \u001b[38;5;34m2,799,375\u001b[0m │\n",
              "└──────────────────────────────────────┴─────────────────────────────┴─────────────────┘\n"
            ]
          },
          "metadata": {},
          "output_type": "display_data"
        },
        {
          "data": {
            "text/html": [
              "<pre style=\"white-space:pre;overflow-x:auto;line-height:normal;font-family:Menlo,'DejaVu Sans Mono',consolas,'Courier New',monospace\"><span style=\"font-weight: bold\"> Total params: </span><span style=\"color: #00af00; text-decoration-color: #00af00\">2,818,767</span> (10.75 MB)\n",
              "</pre>\n"
            ],
            "text/plain": [
              "\u001b[1m Total params: \u001b[0m\u001b[38;5;34m2,818,767\u001b[0m (10.75 MB)\n"
            ]
          },
          "metadata": {},
          "output_type": "display_data"
        },
        {
          "data": {
            "text/html": [
              "<pre style=\"white-space:pre;overflow-x:auto;line-height:normal;font-family:Menlo,'DejaVu Sans Mono',consolas,'Courier New',monospace\"><span style=\"font-weight: bold\"> Trainable params: </span><span style=\"color: #00af00; text-decoration-color: #00af00\">2,818,767</span> (10.75 MB)\n",
              "</pre>\n"
            ],
            "text/plain": [
              "\u001b[1m Trainable params: \u001b[0m\u001b[38;5;34m2,818,767\u001b[0m (10.75 MB)\n"
            ]
          },
          "metadata": {},
          "output_type": "display_data"
        },
        {
          "data": {
            "text/html": [
              "<pre style=\"white-space:pre;overflow-x:auto;line-height:normal;font-family:Menlo,'DejaVu Sans Mono',consolas,'Courier New',monospace\"><span style=\"font-weight: bold\"> Non-trainable params: </span><span style=\"color: #00af00; text-decoration-color: #00af00\">0</span> (0.00 B)\n",
              "</pre>\n"
            ],
            "text/plain": [
              "\u001b[1m Non-trainable params: \u001b[0m\u001b[38;5;34m0\u001b[0m (0.00 B)\n"
            ]
          },
          "metadata": {},
          "output_type": "display_data"
        }
      ],
      "source": [
        "from tensorflow.keras import layers, models\n",
        "\n",
        "model_2 = models.Sequential([\n",
        "    # Первый скрытый слой 1\n",
        "    layers.Conv2D(32, (3, 3), activation='relu', input_shape=(224, 224, 3)),  # 32 фильтра\n",
        "    layers.MaxPooling2D((2, 2)),\n",
        "\n",
        "    # Второй скрытый слой 2\n",
        "    layers.Conv2D(64, (3, 3), activation='relu'),  # 64 фильтра\n",
        "    layers.MaxPooling2D((2, 2)),\n",
        "\n",
        "    # Выравнивание данных для полносвязных слоев\n",
        "    layers.Flatten(),\n",
        "\n",
        "    # Выходной слой\n",
        "    layers.Dropout(0.2),  # Dropout с вероятностью 50%\n",
        "    layers.Dense(num_classes, activation='softmax')  # Выходной слой\n",
        "])\n",
        "\n",
        "model_2.compile(optimizer='adam',\n",
        "              loss='categorical_crossentropy',\n",
        "              metrics=['accuracy'])\n",
        "\n",
        "model_2.summary()"
      ]
    },
    {
      "cell_type": "code",
      "execution_count": 61,
      "metadata": {
        "colab": {
          "base_uri": "https://localhost:8080/"
        },
        "id": "qjJOc73zILmI",
        "outputId": "54b973f7-4c3c-4b25-c6ff-1c26996c44c6"
      },
      "outputs": [
        {
          "name": "stdout",
          "output_type": "stream",
          "text": [
            "Epoch 1/5\n",
            "\u001b[1m468/468\u001b[0m \u001b[32m━━━━━━━━━━━━━━━━━━━━\u001b[0m\u001b[37m\u001b[0m \u001b[1m74s\u001b[0m 158ms/step - accuracy: 0.9812 - loss: 0.0595 - val_accuracy: 0.9173 - val_loss: 0.3395\n",
            "Epoch 2/5\n",
            "\u001b[1m  1/468\u001b[0m \u001b[37m━━━━━━━━━━━━━━━━━━━━\u001b[0m \u001b[1m27s\u001b[0m 60ms/step - accuracy: 0.9688 - loss: 0.0966"
          ]
        },
        {
          "name": "stderr",
          "output_type": "stream",
          "text": [
            "/usr/local/lib/python3.11/dist-packages/keras/src/trainers/epoch_iterator.py:107: UserWarning: Your input ran out of data; interrupting training. Make sure that your dataset or generator can generate at least `steps_per_epoch * epochs` batches. You may need to use the `.repeat()` function when building your dataset.\n",
            "  self._interrupted_warning()\n"
          ]
        },
        {
          "name": "stdout",
          "output_type": "stream",
          "text": [
            "\b\b\b\b\b\b\b\b\b\b\b\b\b\b\b\b\b\b\b\b\b\b\b\b\b\b\b\b\b\b\b\b\b\b\b\b\b\b\b\b\b\b\b\b\b\b\b\b\b\b\b\b\b\b\b\b\b\b\b\b\b\b\b\b\b\b\b\b\b\b\b\b\b\b\b\b\r\u001b[1m468/468\u001b[0m \u001b[32m━━━━━━━━━━━━━━━━━━━━\u001b[0m\u001b[37m\u001b[0m \u001b[1m5s\u001b[0m 10ms/step - accuracy: 0.9688 - loss: 0.0966 - val_accuracy: 0.9207 - val_loss: 0.3207\n",
            "Epoch 3/5\n",
            "\u001b[1m468/468\u001b[0m \u001b[32m━━━━━━━━━━━━━━━━━━━━\u001b[0m\u001b[37m\u001b[0m \u001b[1m69s\u001b[0m 141ms/step - accuracy: 0.9853 - loss: 0.0497 - val_accuracy: 0.8975 - val_loss: 0.4127\n",
            "Epoch 4/5\n",
            "\u001b[1m468/468\u001b[0m \u001b[32m━━━━━━━━━━━━━━━━━━━━\u001b[0m\u001b[37m\u001b[0m \u001b[1m4s\u001b[0m 9ms/step - accuracy: 1.0000 - loss: 0.0254 - val_accuracy: 0.8921 - val_loss: 0.4508\n",
            "Epoch 5/5\n",
            "\u001b[1m468/468\u001b[0m \u001b[32m━━━━━━━━━━━━━━━━━━━━\u001b[0m\u001b[37m\u001b[0m \u001b[1m73s\u001b[0m 156ms/step - accuracy: 0.9931 - loss: 0.0273 - val_accuracy: 0.9106 - val_loss: 0.4022\n"
          ]
        }
      ],
      "source": [
        "history_2 = model_2.fit(\n",
        "    train_generator,\n",
        "    steps_per_epoch=train_generator.samples // train_generator.batch_size,\n",
        "    epochs=5,\n",
        "    validation_data = validation_generator,\n",
        "    validation_steps = validation_generator.samples // validation_generator.batch_size\n",
        ")"
      ]
    },
    {
      "cell_type": "markdown",
      "metadata": {
        "id": "zEtnI0g-IvGH"
      },
      "source": [
        "Далее я визуализировала данные уже с примененным `Dropout`."
      ]
    },
    {
      "cell_type": "code",
      "execution_count": 60,
      "metadata": {
        "colab": {
          "base_uri": "https://localhost:8080/",
          "height": 607
        },
        "id": "W7ZnCgiJIeAG",
        "outputId": "a1033b8b-9eee-4b2a-b3be-b500e16fc3b6"
      },
      "outputs": [
        {
          "data": {
            "image/png": "[encoded data removed]",
            "text/plain": [
              "<Figure size 1200x600 with 2 Axes>"
            ]
          },
          "metadata": {},
          "output_type": "display_data"
        }
      ],
      "source": [
        "import matplotlib.pyplot as plt\n",
        "\n",
        "# Извлечение данных из history\n",
        "train_loss_2 = history_2.history['loss']\n",
        "val_loss_2 = history_2.history['val_loss']\n",
        "\n",
        "train_accuracy_2 = history_2.history['accuracy']\n",
        "val_accuracy_2 = history_2.history['val_accuracy']\n",
        "\n",
        "# График функции потерь (Loss)\n",
        "plt.figure(figsize=(12, 6))\n",
        "plt.subplot(1, 2, 1)\n",
        "plt.plot(train_loss_2, label='Train Loss')\n",
        "plt.plot(val_loss_2, label='Validation Loss')\n",
        "# plt.axhline(y=test_loss, color='r', linestyle='--', label='Test Loss')\n",
        "plt.title('Loss / Epochs')\n",
        "plt.xlabel('Epochs')\n",
        "plt.ylabel('Loss')\n",
        "plt.legend()\n",
        "\n",
        "# График точности (Accuracy)\n",
        "plt.subplot(1, 2, 2)\n",
        "plt.plot(train_accuracy_2, label='Train Accuracy')\n",
        "plt.plot(val_accuracy_2, label='Validation Accuracy')\n",
        "# plt.axhline(y=test_accuracy, color='r', linestyle='--', label='Test Accuracy')\n",
        "plt.title('Accuracy / Epochs')\n",
        "plt.xlabel('Epochs')\n",
        "plt.ylabel('Accuracy')\n",
        "plt.legend()\n",
        "\n",
        "plt.tight_layout()\n",
        "plt.show()"
      ]
    },
    {
      "cell_type": "markdown",
      "metadata": {
        "id": "zA00lt_7IKfp"
      },
      "source": []
    },
    {
      "cell_type": "markdown",
      "metadata": {
        "id": "lbIQniLRD1oO"
      },
      "source": [
        "## 3.4 Проверка на тестовой выборке.\n",
        "Сначала преобразуем тестовые данные для оценки."
      ]
    },
    {
      "cell_type": "code",
      "execution_count": 45,
      "metadata": {
        "colab": {
          "base_uri": "https://localhost:8080/"
        },
        "id": "OJuGKEgbev_y",
        "outputId": "d834cf1b-d318-4811-81d1-c3f291fbea43"
      },
      "outputs": [
        {
          "name": "stdout",
          "output_type": "stream",
          "text": [
            "Found 3000 images belonging to 15 classes.\n"
          ]
        }
      ],
      "source": [
        "test_datagen = ImageDataGenerator(rescale=1.0/255.0)\n",
        "\n",
        "test_gen = test_datagen.flow_from_directory(\n",
        "    test_data_dir,\n",
        "    target_size=(224, 224),\n",
        "    batch_size=32,\n",
        "    class_mode='categorical'\n",
        ")"
      ]
    },
    {
      "cell_type": "markdown",
      "metadata": {
        "id": "g2IyvohZEQ5w"
      },
      "source": [
        "Далее используем `evaluate()` используется для оценки модели тестовых данных (которые не показывались модели). В ответе мы получим значение точности `accuracy` и функции потерь `loss`."
      ]
    },
    {
      "cell_type": "markdown",
      "metadata": {
        "id": "tYb5BGWyEYYL"
      },
      "source": []
    },
    {
      "cell_type": "code",
      "execution_count": 40,
      "metadata": {
        "colab": {
          "base_uri": "https://localhost:8080/"
        },
        "id": "pW7isca6e3jc",
        "outputId": "472b20fd-691c-4f5e-a5c1-eb2921a860e6"
      },
      "outputs": [
        {
          "name": "stdout",
          "output_type": "stream",
          "text": [
            "\r\u001b[1m 1/94\u001b[0m \u001b[37m━━━━━━━━━━━━━━━━━━━━\u001b[0m \u001b[1m8s\u001b[0m 94ms/step - accuracy: 0.8438 - loss: 0.3994"
          ]
        },
        {
          "name": "stderr",
          "output_type": "stream",
          "text": [
            "/usr/local/lib/python3.11/dist-packages/keras/src/trainers/data_adapters/py_dataset_adapter.py:121: UserWarning: Your `PyDataset` class should call `super().__init__(**kwargs)` in its constructor. `**kwargs` can include `workers`, `use_multiprocessing`, `max_queue_size`. Do not pass these arguments to `fit()`, as they will be ignored.\n",
            "  self._warn_if_super_not_called()\n"
          ]
        },
        {
          "name": "stdout",
          "output_type": "stream",
          "text": [
            "\u001b[1m94/94\u001b[0m \u001b[32m━━━━━━━━━━━━━━━━━━━━\u001b[0m\u001b[37m\u001b[0m \u001b[1m4s\u001b[0m 44ms/step - accuracy: 0.8907 - loss: 0.3564\n",
            "\n",
            "Test Loss:  0.386, Test Accuracy:  0.886\n"
          ]
        }
      ],
      "source": [
        "test_loss, test_accuracy = model.evaluate(test_gen)\n",
        "print(f'\\nTest Loss: {test_loss : .3f}, Test Accuracy: {test_accuracy : .3f}')"
      ]
    },
    {
      "cell_type": "markdown",
      "metadata": {
        "id": "Wuuoo633FXhx"
      },
      "source": [
        "График на тестовой выборке отображается как константа, так как при обучении модели тестовые данные не используются. Также на графике на тренировочной выборке, что модель как будто бы переобучилась. Можем добавить Dropout."
      ]
    },
    {
      "cell_type": "markdown",
      "metadata": {
        "id": "rUJKEKpdKbMA"
      },
      "source": [
        "Значения точности 88,6 % гвоорят о хорошем обучении модели."
      ]
    },
    {
      "cell_type": "code",
      "execution_count": 55,
      "metadata": {
        "colab": {
          "base_uri": "https://localhost:8080/"
        },
        "id": "Qbto0UwJfRm1",
        "outputId": "8831d79a-304f-48bc-8c09-1d19ba70de72"
      },
      "outputs": [
        {
          "name": "stdout",
          "output_type": "stream",
          "text": [
            "\u001b[1m94/94\u001b[0m \u001b[32m━━━━━━━━━━━━━━━━━━━━\u001b[0m\u001b[37m\u001b[0m \u001b[1m4s\u001b[0m 47ms/step\n"
          ]
        }
      ],
      "source": [
        "import numpy as np\n",
        "y_pred_test = model.predict(test_gen) #  получает вероятности классов для тестовых данных\n",
        "\n",
        "y_pred_class_test = np.argmax(y_pred_test, axis=1) # предсказанные метки классов\n",
        "\n",
        "y_true_class_test = test_gen.classes # истинные метки классов"
      ]
    },
    {
      "cell_type": "code",
      "execution_count": 51,
      "metadata": {
        "colab": {
          "base_uri": "https://localhost:8080/",
          "height": 211
        },
        "id": "yts2Z1n7fbFQ",
        "outputId": "f0a5e0bd-ad9c-401b-90d1-afa3462fcfa8"
      },
      "outputs": [
        {
          "ename": "NameError",
          "evalue": "name 'y_true_class_test' is not defined",
          "output_type": "error",
          "traceback": [
            "\u001b[0;31m---------------------------------------------------------------------------\u001b[0m",
            "\u001b[0;31mNameError\u001b[0m                                 Traceback (most recent call last)",
            "\u001b[0;32m<ipython-input-51-2287381b759e>\u001b[0m in \u001b[0;36m<cell line: 0>\u001b[0;34m()\u001b[0m\n\u001b[1;32m      2\u001b[0m \u001b[0;34m\u001b[0m\u001b[0m\n\u001b[1;32m      3\u001b[0m \u001b[0;31m# confusion matrix\u001b[0m\u001b[0;34m\u001b[0m\u001b[0;34m\u001b[0m\u001b[0m\n\u001b[0;32m----> 4\u001b[0;31m \u001b[0mmatrix\u001b[0m \u001b[0;34m=\u001b[0m \u001b[0mconfusion_matrix\u001b[0m\u001b[0;34m(\u001b[0m\u001b[0my_true_class_test\u001b[0m\u001b[0;34m,\u001b[0m \u001b[0my_pred_class_test\u001b[0m\u001b[0;34m)\u001b[0m\u001b[0;34m\u001b[0m\u001b[0;34m\u001b[0m\u001b[0m\n\u001b[0m\u001b[1;32m      5\u001b[0m \u001b[0;34m\u001b[0m\u001b[0m\n\u001b[1;32m      6\u001b[0m \u001b[0mreport\u001b[0m \u001b[0;34m=\u001b[0m \u001b[0mclassification_report\u001b[0m\u001b[0;34m(\u001b[0m\u001b[0my_true_class_test\u001b[0m\u001b[0;34m,\u001b[0m \u001b[0my_pred_class_test\u001b[0m\u001b[0;34m,\u001b[0m \u001b[0mtarget_names\u001b[0m\u001b[0;34m=\u001b[0m\u001b[0mvalidation_generator\u001b[0m\u001b[0;34m.\u001b[0m\u001b[0mclass_indices\u001b[0m\u001b[0;34m.\u001b[0m\u001b[0mkeys\u001b[0m\u001b[0;34m(\u001b[0m\u001b[0;34m)\u001b[0m\u001b[0;34m)\u001b[0m\u001b[0;34m\u001b[0m\u001b[0;34m\u001b[0m\u001b[0m\n",
            "\u001b[0;31mNameError\u001b[0m: name 'y_true_class_test' is not defined"
          ]
        }
      ],
      "source": [
        "from sklearn.metrics import confusion_matrix, classification_report\n",
        "\n",
        "# confusion matrix\n",
        "matrix = confusion_matrix(y_true_class_test, y_pred_class_test)\n",
        "\n",
        "report = classification_report(y_true_class_test, y_pred_class_test, target_names=validation_generator.class_indices.keys())\n",
        "print(\"Classification Report:\")\n",
        "print(class_report)"
      ]
    },
    {
      "cell_type": "markdown",
      "metadata": {
        "id": "PqhbtX8Ag7hi"
      },
      "source": [
        "# Матрица ошибок\n",
        " это таблица, которая показывает, как часто модель правильно или ошибочно классифицирует объекты каждого класса. Она позволяет:\n",
        "\n",
        "Увидеть, какие классы модель путает между собой.\n",
        "\n",
        "Оценить точность модели для каждого класса.\n",
        "Строки матрицы соответствуют истинным классам\n",
        "\n",
        "Столбцы матрицы соответствуют предсказанным классам"
      ]
    },
    {
      "cell_type": "code",
      "execution_count": 50,
      "metadata": {
        "colab": {
          "base_uri": "https://localhost:8080/",
          "height": 211
        },
        "id": "zqJ6r43Dfe_c",
        "outputId": "1162b3e4-1619-4c27-a837-92b0b1b6c39f"
      },
      "outputs": [
        {
          "ename": "NameError",
          "evalue": "name 'y_true_classes' is not defined",
          "output_type": "error",
          "traceback": [
            "\u001b[0;31m---------------------------------------------------------------------------\u001b[0m",
            "\u001b[0;31mNameError\u001b[0m                                 Traceback (most recent call last)",
            "\u001b[0;32m<ipython-input-50-d0a3e1bc10a6>\u001b[0m in \u001b[0;36m<cell line: 0>\u001b[0;34m()\u001b[0m\n\u001b[1;32m      4\u001b[0m \u001b[0;34m\u001b[0m\u001b[0m\n\u001b[1;32m      5\u001b[0m \u001b[0;31m# Generate the confusion matrix\u001b[0m\u001b[0;34m\u001b[0m\u001b[0;34m\u001b[0m\u001b[0m\n\u001b[0;32m----> 6\u001b[0;31m \u001b[0mcm\u001b[0m \u001b[0;34m=\u001b[0m \u001b[0mconfusion_matrix\u001b[0m\u001b[0;34m(\u001b[0m\u001b[0my_true_classes\u001b[0m\u001b[0;34m,\u001b[0m \u001b[0my_pred_classes\u001b[0m\u001b[0;34m)\u001b[0m\u001b[0;34m\u001b[0m\u001b[0;34m\u001b[0m\u001b[0m\n\u001b[0m\u001b[1;32m      7\u001b[0m \u001b[0;34m\u001b[0m\u001b[0m\n\u001b[1;32m      8\u001b[0m \u001b[0;31m# Plotting the confusion matrix\u001b[0m\u001b[0;34m\u001b[0m\u001b[0;34m\u001b[0m\u001b[0m\n",
            "\u001b[0;31mNameError\u001b[0m: name 'y_true_classes' is not defined"
          ]
        }
      ],
      "source": [
        "import seaborn as sns\n",
        "import matplotlib.pyplot as plt\n",
        "from sklearn.metrics import confusion_matrix\n",
        "\n",
        "# Generate the confusion matrix\n",
        "cm = confusion_matrix(y_true_classes, y_pred_classes)\n",
        "\n",
        "# Plotting the confusion matrix\n",
        "plt.figure(figsize=(12, 12))\n",
        "sns.heatmap(cm, annot=True, fmt='d', cmap='Blues',\n",
        "            xticklabels=Test_generator.class_indices.keys(),\n",
        "            yticklabels=Test_generator.class_indices.keys())\n",
        "plt.xlabel('Predicted')\n",
        "plt.ylabel('Actual')\n",
        "plt.title('Confusion Matrix')\n",
        "plt.show()"
      ]
    }
  ],
  "metadata": {
    "accelerator": "GPU",
    "colab": {
      "gpuType": "T4",
      "provenance": []
    },
    "kernelspec": {
      "display_name": "Python 3",
      "name": "python3"
    },
    "language_info": {
      "name": "python"
    }
  },
  "nbformat": 4,
  "nbformat_minor": 0
}
